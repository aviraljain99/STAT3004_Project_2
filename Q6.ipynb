{
 "cells": [
  {
   "cell_type": "code",
   "execution_count": 1,
   "metadata": {},
   "outputs": [],
   "source": [
    "import numpy as np\n",
    "import matplotlib.pyplot as plt\n",
    "from itertools import product as product\n",
    "%matplotlib notebook"
   ]
  },
  {
   "cell_type": "code",
   "execution_count": 125,
   "metadata": {},
   "outputs": [],
   "source": [
    "# Every time it passes a multiple of 20, make the c_t factor equal to 0.4\n",
    "# If the number of infectives decreases by 10, make the c_t factor equal to 1\n",
    "def doobGillespie_old(diagonal, currState, Pjump, biStates):\n",
    "    times = [(0, biStates[currState])]\n",
    "    state = currState\n",
    "    while biStates[state][1] != 0: # While the number of infectives isn't zero\n",
    "        timeSpent = np.random.exponential(scale=1/(diagonal[state]))\n",
    "        state = np.random.choice(range(Pjump.shape[1]), p=Pjump[state, :])\n",
    "        times.append((times[-1][0] + timeSpent, biStates[state]))\n",
    "    return times\n",
    "\n",
    "def doobGillespie_v1(diagonal, diagonalDist, currState, Pjump, PjumpDist, biStates, N):\n",
    "    distancing = False\n",
    "    times = [(0, biStates[currState])]\n",
    "    state = currState\n",
    "    old = biStates[state][0] # num of susceps\n",
    "    distancingTime = []\n",
    "    while biStates[state][1] != 0: # While the number of infectives isn't zero\n",
    "        if distancing:\n",
    "            # print(\"distancing\")\n",
    "            timeSpent = np.random.exponential(scale=1/(diagonalDist[state]))\n",
    "            state = np.random.choice(range(Pjump.shape[1]), p=PjumpDist[state, :])\n",
    "            times.append((times[-1][0] + timeSpent, biStates[state]))\n",
    "            if biStates[state][1] <= 5: # if the number of infectives goes below 5, relax restrictions\n",
    "                distancing = False\n",
    "                old = biStates[state][0]\n",
    "                distancingTime.append(times[-1][0])\n",
    "        else:     \n",
    "            timeSpent = np.random.exponential(scale=1/(diagonal[state]))\n",
    "            state = np.random.choice(range(Pjump.shape[1]), p=Pjump[state, :])\n",
    "            times.append((times[-1][0] + timeSpent, biStates[state]))\n",
    "            if old - biStates[state][0] >= 10:\n",
    "                # print(\"start distancing\")\n",
    "                distancingTime.append(times[-1][0])\n",
    "                distancing = True\n",
    "                oldInf = biStates[state][1]\n",
    "    return times, distancingTime\n",
    "\n",
    "def doobGillespie_v2(diagonal, diagonalDist, currState, Pjump, PjumpDist, biStates, N):\n",
    "    distancing = False\n",
    "    times = [(0, biStates[currState])]\n",
    "    state = currState\n",
    "    old = biStates[state][0] # num of susceps\n",
    "    distancingTime = []\n",
    "    while biStates[state][1] != 0: # While the number of infectives isn't zero\n",
    "        if distancing:\n",
    "            # print(\"distancing\")\n",
    "            timeSpent = np.random.exponential(scale=1/(diagonalDist[state]))\n",
    "            state = np.random.choice(range(Pjump.shape[1]), p=PjumpDist[state, :])\n",
    "            times.append((times[-1][0] + timeSpent, biStates[state]))\n",
    "        else:     \n",
    "            timeSpent = np.random.exponential(scale=1/(diagonal[state]))\n",
    "            state = np.random.choice(range(Pjump.shape[1]), p=Pjump[state, :])\n",
    "            times.append((times[-1][0] + timeSpent, biStates[state]))\n",
    "            if old - biStates[state][0] >= 10:\n",
    "                # print(\"start distancing\")\n",
    "                distancingTime.append(times[-1][0])\n",
    "                distancing = True\n",
    "                oldInf = biStates[state][1]\n",
    "    return times, distancingTime"
   ]
  },
  {
   "cell_type": "code",
   "execution_count": 126,
   "metadata": {},
   "outputs": [],
   "source": [
    "N = 100\n",
    "I_0 = 5\n",
    "Rsi = 2/N\n",
    "Rir = 1/N\n",
    "\n",
    "states = {(x, y) : ind for ind, (x, y) in enumerate([(x, y) for x in range(N + 1) for y in range(N + 1) if x + y <= N], 0)}\n",
    "biStates = {ind : state for state, ind in states.items()}"
   ]
  },
  {
   "cell_type": "code",
   "execution_count": 160,
   "metadata": {},
   "outputs": [
    {
     "name": "stderr",
     "output_type": "stream",
     "text": [
      "C:\\Users\\Aviral\\Anaconda3\\lib\\site-packages\\ipykernel_launcher.py:14: RuntimeWarning: invalid value encountered in true_divide\n",
      "  \n"
     ]
    }
   ],
   "source": [
    "def getQMatrix(states, ct=1):\n",
    "    Q = np.zeros((len(states), len(states)))\n",
    "\n",
    "    for (x, y), ind in states.items():\n",
    "        if y > 0:\n",
    "            transitionTo = states[(x, y - 1)]\n",
    "            Q[ind, transitionTo] = Rir * y\n",
    "        if x > 0:\n",
    "            transitionTo = states[(x - 1, y + 1)]\n",
    "            Q[ind, transitionTo] = Rsi * y * x * ct\n",
    "        Q[ind, ind] = - np.sum(Q[ind, :])\n",
    "    \n",
    "    diagonal = (- np.diagonal(Q))\n",
    "    Pjump = Q / (- np.diagonal(Q))[:, np.newaxis]\n",
    "    np.fill_diagonal(Pjump, 0)\n",
    "    np.nan_to_num(Pjump, copy=False)\n",
    "    return Q, Pjump, diagonal\n",
    "\n",
    "Q, Pjump, diagonal = getQMatrix(states)\n",
    "DistQ, PjumpDist, diagonalDist = getQMatrix(states, ct=0.006)\n",
    "\n",
    "# check = np.sum(Pjump, axis=1)\n",
    "# assert np.allclose(check, np.sum(PjumpDist, axis=1))\n",
    "\n",
    "# for i in range(len(check)):\n",
    "#     if check[i] == 0:\n",
    "#         print(biStates[i])\n",
    "\n",
    "# ct = 0.01\n",
    "# DistQ = np.zeros((len(states), len(states)))\n",
    "# for (x, y), ind in states.items():\n",
    "#     if y > 0:\n",
    "#         transitionTo = states[(x, y - 1)]\n",
    "#         DistQ[ind, transitionTo] = Rir * y\n",
    "#     if x > 0:\n",
    "#         transitionTo = states[(x - 1, y + 1)]\n",
    "#         DistQ[ind, transitionTo] = Rsi * y * x * ct\n",
    "#     DistQ[ind, ind] = - np.sum(DistQ[ind, :])\n",
    "\n",
    "# diagonalDist = (- np.diagonal(DistQ))\n",
    "# PjumpDist = DistQ / (- np.diagonal(DistQ))[:, np.newaxis]\n",
    "# np.fill_diagonal(PjumpDist, 0)\n",
    "# np.nan_to_num(PjumpDist, copy=False)"
   ]
  },
  {
   "cell_type": "code",
   "execution_count": 162,
   "metadata": {},
   "outputs": [
    {
     "data": {
      "image/png": "[encoded data removed]",
      "text/plain": [
       "<Figure size 432x288 with 1 Axes>"
      ]
     },
     "metadata": {
      "needs_background": "light"
     },
     "output_type": "display_data"
    }
   ],
   "source": [
    "trace, distancingTime = doobGillespie_v2(diagonal, diagonalDist, states[(N - I_0, I_0)], Pjump, PjumpDist, biStates, N)\n",
    "traceTimes, traceStates = zip(*trace)\n",
    "traceSuscep, traceInf = zip(*traceStates)\n",
    "\n",
    "# Plotting the trajectories\n",
    "plt.figure()\n",
    "plt.plot(traceTimes, traceSuscep, label=\"Susceptibles\")\n",
    "plt.plot(traceTimes, traceInf, label=\"Susceptibles\")\n",
    "\n",
    "for i in distancingTime:\n",
    "    plt.axvline(i)\n",
    "\n",
    "plt.show()"
   ]
  },
  {
   "cell_type": "code",
   "execution_count": 163,
   "metadata": {},
   "outputs": [
    {
     "name": "stdout",
     "output_type": "stream",
     "text": [
      "[0.4436914641645085]\n"
     ]
    },
    {
     "data": {
      "text/plain": [
       "[(0, (95, 5)),\n",
       " (0.17104351298639545, (94, 6)),\n",
       " (0.21719342024216254, (93, 7)),\n",
       " (0.2624159775725743, (92, 8)),\n",
       " (0.34195512777358095, (91, 9)),\n",
       " (0.4436914641645085, (90, 10)),\n",
       " (0.572486975773779, (90, 9)),\n",
       " (1.662049527390797, (89, 10)),\n",
       " (2.7753486111957373, (89, 9)),\n",
       " (7.450146473388054, (89, 8)),\n",
       " (13.265051833611656, (89, 7)),\n",
       " (14.65008440758268, (88, 8)),\n",
       " (14.769821918565981, (87, 9)),\n",
       " (22.197270040762177, (86, 10)),\n",
       " (24.7787674013777, (85, 11)),\n",
       " (31.66274806368837, (84, 12)),\n",
       " (32.275967235412864, (83, 13)),\n",
       " (33.71180289264868, (83, 12)),\n",
       " (43.82272058686598, (83, 11)),\n",
       " (46.69960524358392, (83, 10)),\n",
       " (52.01037378326334, (83, 9)),\n",
       " (64.11964770536414, (83, 8)),\n",
       " (76.60978908767741, (83, 7)),\n",
       " (85.15521054070021, (83, 6)),\n",
       " (88.11901125423586, (82, 7)),\n",
       " (102.61678352863552, (81, 8)),\n",
       " (116.14988718079263, (81, 7)),\n",
       " (117.5714773419179, (80, 8)),\n",
       " (118.22351420172818, (79, 9)),\n",
       " (123.0387098906144, (78, 10)),\n",
       " (128.0936774514183, (78, 9)),\n",
       " (136.82564682646833, (78, 8)),\n",
       " (144.0381706954361, (77, 9)),\n",
       " (144.23190353003494, (77, 8)),\n",
       " (145.72719585033263, (76, 9)),\n",
       " (151.49168846981166, (76, 8)),\n",
       " (161.9430197182137, (76, 7)),\n",
       " (163.93758200740794, (75, 8)),\n",
       " (165.53990479513945, (74, 9)),\n",
       " (171.95512578581184, (74, 8)),\n",
       " (178.82849539442364, (74, 7)),\n",
       " (179.34361183344285, (74, 6)),\n",
       " (193.17562453548493, (74, 5)),\n",
       " (222.0688877735894, (73, 6)),\n",
       " (233.6492483526631, (72, 7)),\n",
       " (240.26864717536367, (71, 8)),\n",
       " (257.9134463936753, (70, 9)),\n",
       " (259.94606922001964, (70, 8)),\n",
       " (264.9007422726595, (70, 7)),\n",
       " (269.2087423184607, (69, 8)),\n",
       " (274.9465685562911, (69, 7)),\n",
       " (284.8276132173739, (69, 6)),\n",
       " (285.62390866624156, (69, 5)),\n",
       " (289.2119705297905, (68, 6)),\n",
       " (290.6911141353155, (67, 7)),\n",
       " (300.8337122256217, (67, 6)),\n",
       " (308.75698452938735, (66, 7)),\n",
       " (335.1713355428547, (66, 6)),\n",
       " (353.573455343423, (66, 5)),\n",
       " (364.80577351068996, (66, 4)),\n",
       " (383.6212209779517, (66, 3)),\n",
       " (391.99218265880995, (65, 4)),\n",
       " (412.5883224673996, (64, 5)),\n",
       " (417.9200365109922, (64, 4)),\n",
       " (431.6024051290417, (63, 5)),\n",
       " (451.394103309051, (63, 4)),\n",
       " (459.54709474802377, (63, 3)),\n",
       " (471.63108237774367, (62, 4)),\n",
       " (473.57208011879186, (62, 3)),\n",
       " (526.1569870311815, (61, 4)),\n",
       " (530.9858356649918, (61, 3)),\n",
       " (536.7902076645216, (60, 4)),\n",
       " (541.7047602347586, (60, 3)),\n",
       " (569.6074452348439, (59, 4)),\n",
       " (578.0409650262472, (58, 5)),\n",
       " (579.123295419513, (58, 4)),\n",
       " (593.1226109387612, (57, 5)),\n",
       " (593.6589443347668, (57, 4)),\n",
       " (594.7809973803916, (56, 5)),\n",
       " (610.1686438150302, (56, 4)),\n",
       " (617.4520139398257, (56, 3)),\n",
       " (655.3333683685224, (56, 2)),\n",
       " (662.1282416965388, (56, 1)),\n",
       " (676.19676099108, (55, 2)),\n",
       " (726.2952899306797, (55, 1)),\n",
       " (740.7462035858687, (55, 0))]"
      ]
     },
     "execution_count": 163,
     "metadata": {},
     "output_type": "execute_result"
    }
   ],
   "source": [
    "print(distancingTime)\n",
    "trace"
   ]
  },
  {
   "cell_type": "code",
   "execution_count": 170,
   "metadata": {},
   "outputs": [],
   "source": [
    "funcs = [doobGillespie_v2]\n",
    "params = {\n",
    "    doobGillespie_v1.__name__ : [diagonal, diagonalDist, states[(N - I_0, I_0)], Pjump, PjumpDist, biStates, N],\n",
    "    doobGillespie_v2.__name__ : [diagonal, diagonalDist, states[(N - I_0, I_0)], Pjump, PjumpDist, biStates, N]\n",
    "    } \n",
    "\n",
    "distribution = np.zeros((len(funcs), N - I_0 + 1))\n",
    "\n",
    "endTimes = [0]\n",
    "\n",
    "for func_ind, func in enumerate(funcs, 0):\n",
    "    trials = int(1e4)\n",
    "    infected = [0 for i in range(N - I_0 + 1)]\n",
    "    # What does the distribution for this function look like\n",
    "    for trial in range(trials):\n",
    "        trace, _ = func(*params[func.__name__])\n",
    "        endState = trace[-1][1]\n",
    "        endTimes[func_ind] += trace[-1][0]\n",
    "        suscepInfected = (N - I_0) - endState[0]\n",
    "        infected[suscepInfected] += 1\n",
    "    \n",
    "    distribution[func_ind, :] = np.asarray([i/trials for i in infected])\n",
    "    endTimes[func_ind] /= trials"
   ]
  },
  {
   "cell_type": "code",
   "execution_count": 171,
   "metadata": {},
   "outputs": [
    {
     "data": {
      "text/plain": [
       "Text(0, 0.5, 'Probability')"
      ]
     },
     "execution_count": 171,
     "metadata": {},
     "output_type": "execute_result"
    },
    {
     "data": {
      "image/png": "[encoded data removed]",
      "text/plain": [
       "<Figure size 432x288 with 2 Axes>"
      ]
     },
     "metadata": {
      "needs_background": "light"
     },
     "output_type": "display_data"
    }
   ],
   "source": [
    "fig, ax = plt.subplots(nrows=2, sharex=True)\n",
    "ax[0].bar(range(N - I_0 + 1), distribution[0, :], label=\"Version 1\")\n",
    "ax[0].legend()\n",
    "ax[0].set_xlabel(\"Number of infected\")\n",
    "ax[0].set_ylabel(\"Probability\")\n",
    "\n",
    "ax[1].bar(range(N - I_0 + 1), distribution[1, :], label=\"Version 2\")\n",
    "ax[1].legend()\n",
    "ax[1].set_xlabel(\"Number of infected\")\n",
    "ax[1].set_ylabel(\"Probability\")"
   ]
  },
  {
   "cell_type": "code",
   "execution_count": null,
   "metadata": {},
   "outputs": [],
   "source": []
  }
 ],
 "metadata": {
  "kernelspec": {
   "display_name": "Python 3",
   "language": "python",
   "name": "python3"
  },
  "language_info": {
   "codemirror_mode": {
    "name": "ipython",
    "version": 3
   },
   "file_extension": ".py",
   "mimetype": "text/x-python",
   "name": "python",
   "nbconvert_exporter": "python",
   "pygments_lexer": "ipython3",
   "version": "3.7.3"
  }
 },
 "nbformat": 4,
 "nbformat_minor": 2
}
