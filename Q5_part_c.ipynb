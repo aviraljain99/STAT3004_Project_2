{
 "cells": [
  {
   "cell_type": "code",
   "execution_count": 1,
   "metadata": {},
   "outputs": [],
   "source": [
    "import numpy as np\n",
    "import matplotlib.pyplot as plt\n",
    "from itertools import product as product\n",
    "from scipy.linalg import expm\n",
    "%matplotlib notebook"
   ]
  },
  {
   "cell_type": "code",
   "execution_count": 2,
   "metadata": {},
   "outputs": [],
   "source": [
    "N = 100\n",
    "I_0 = 5\n",
    "Rsi = 2/N\n",
    "Rir = 1/N\n",
    "\n",
    "states = {(x, y) : ind for ind, (x, y) in enumerate([(x, y) for x in range(N + 1) for y in range(N + 1) if x + y <= N], 0)}\n",
    "biStates = {ind : state for state, ind in states.items()}"
   ]
  },
  {
   "cell_type": "code",
   "execution_count": 3,
   "metadata": {},
   "outputs": [],
   "source": [
    "Q = np.zeros((len(states), len(states)))\n",
    "\n",
    "for (x, y), ind in states.items():\n",
    "    if y > 0:\n",
    "        transitionTo = states[(x, y - 1)]\n",
    "        Q[ind, transitionTo] = Rir * y\n",
    "    if x > 0:\n",
    "        transitionTo = states[(x - 1, y + 1)]\n",
    "        Q[ind, transitionTo] = Rsi * y * x\n",
    "    Q[ind, ind] = - np.sum(Q[ind, :])"
   ]
  },
  {
   "cell_type": "code",
   "execution_count": 28,
   "metadata": {},
   "outputs": [],
   "source": [
    "def doobGillespie(diagonal, currState, Pjump, biStates):\n",
    "    times = [(0, biStates[currState])]\n",
    "    state = currState\n",
    "    while biStates[state][1] != 0: # While the number of infectives isn't zero\n",
    "        timeSpent = np.random.exponential(scale=1/(diagonal[state]))\n",
    "        state = np.random.choice(range(Pjump.shape[1]), p=Pjump[state, :])\n",
    "        times.append((times[-1][0] + timeSpent, biStates[state]))\n",
    "    return times"
   ]
  },
  {
   "cell_type": "code",
   "execution_count": 29,
   "metadata": {},
   "outputs": [
    {
     "name": "stderr",
     "output_type": "stream",
     "text": [
      "C:\\Users\\Aviral\\Anaconda3\\lib\\site-packages\\ipykernel_launcher.py:2: RuntimeWarning: invalid value encountered in true_divide\n",
      "  \n"
     ]
    },
    {
     "data": {
      "text/plain": [
       "array([[0.        , 0.        , 0.        , ..., 0.        , 0.        ,\n",
       "        0.        ],\n",
       "       [1.        , 0.        , 0.        , ..., 0.        , 0.        ,\n",
       "        0.        ],\n",
       "       [0.        , 1.        , 0.        , ..., 0.        , 0.        ,\n",
       "        0.        ],\n",
       "       ...,\n",
       "       [0.        , 0.        , 0.        , ..., 0.        , 0.        ,\n",
       "        0.        ],\n",
       "       [0.        , 0.        , 0.        , ..., 0.00502513, 0.        ,\n",
       "        0.        ],\n",
       "       [0.        , 0.        , 0.        , ..., 0.        , 0.        ,\n",
       "        0.        ]])"
      ]
     },
     "execution_count": 29,
     "metadata": {},
     "output_type": "execute_result"
    }
   ],
   "source": [
    "diagonal =  - np.diagonal(Q)\n",
    "Pjump = Q / diagonal[:, np.newaxis]\n",
    "np.fill_diagonal(Pjump, 0)\n",
    "np.nan_to_num(Pjump, copy=False)"
   ]
  },
  {
   "cell_type": "code",
   "execution_count": 32,
   "metadata": {},
   "outputs": [],
   "source": [
    "check = doobGillespie(diagonal, states[(N - I_0, I_0)], Pjump, biStates)"
   ]
  },
  {
   "cell_type": "code",
   "execution_count": 31,
   "metadata": {},
   "outputs": [],
   "source": [
    "def binSearch(searchIn, goal):\n",
    "    if goal >= searchIn[-1][0]:\n",
    "        return (len(searchIn) - 1, None)\n",
    "    elif goal <= searchIn[0][0]:\n",
    "        return (None, 0)\n",
    "    else:\n",
    "        low = 0\n",
    "        upper = len(searchIn) - 1\n",
    "        middle = int((upper + low)/2)\n",
    "        while low < upper: # replace this\n",
    "            # print(\"searching between \" + str(low) + \" and \" + str(upper))\n",
    "            if middle < len(searchIn) - 1:\n",
    "                if searchIn[middle][0] <= goal and searchIn[middle + 1][0] >= goal:\n",
    "                    return (middle, middle + 1)\n",
    "            elif middle > 0:\n",
    "                if searchIn[middle - 1][0] >= goal and searchIn[middle][0] <= goal:\n",
    "                    return (middle, middle - 1)\n",
    "            \n",
    "            if goal > searchIn[middle][0]:\n",
    "                low = middle + 1\n",
    "            else: # goal < middle\n",
    "                upper = middle - 1\n",
    "            middle = int((upper + low)/2)\n",
    "        return (middle, middle + 1)"
   ]
  },
  {
   "cell_type": "code",
   "execution_count": 38,
   "metadata": {},
   "outputs": [
    {
     "name": "stdout",
     "output_type": "stream",
     "text": [
      "(3.904218061626356, (0, 98))\n",
      "(6.439502610125743, (0, 97))\n"
     ]
    }
   ],
   "source": [
    "binSearch(check, 5)\n",
    "print(check[97])\n",
    "print(check[98])"
   ]
  },
  {
   "cell_type": "code",
   "execution_count": 39,
   "metadata": {},
   "outputs": [],
   "source": [
    "ts = [5, 10, 20, 50]\n",
    "\n",
    "t_values = np.asarray([0 for t in ts])\n",
    "trials = 1000\n",
    "\n",
    "diagonal = - np.diag(Q)\n",
    "\n",
    "for trial in range(trials):\n",
    "    trace = doobGillespie(diagonal, states[(N - I_0, I_0)], Pjump, biStates)\n",
    "    for ind_t, t in enumerate(ts, 0):\n",
    "        lower, _ = binSearch(trace, t)\n",
    "        t_values[ind_t] += trace[lower][1][1]"
   ]
  },
  {
   "cell_type": "code",
   "execution_count": 40,
   "metadata": {},
   "outputs": [
    {
     "data": {
      "text/plain": [
       "[96.41, 91.892, 83.158, 61.466]"
      ]
     },
     "execution_count": 40,
     "metadata": {},
     "output_type": "execute_result"
    }
   ],
   "source": [
    "[val/trials for val in t_values]"
   ]
  },
  {
   "cell_type": "code",
   "execution_count": null,
   "metadata": {},
   "outputs": [],
   "source": []
  }
 ],
 "metadata": {
  "kernelspec": {
   "display_name": "Python 3",
   "language": "python",
   "name": "python3"
  },
  "language_info": {
   "codemirror_mode": {
    "name": "ipython",
    "version": 3
   },
   "file_extension": ".py",
   "mimetype": "text/x-python",
   "name": "python",
   "nbconvert_exporter": "python",
   "pygments_lexer": "ipython3",
   "version": "3.7.3"
  }
 },
 "nbformat": 4,
 "nbformat_minor": 2
}
