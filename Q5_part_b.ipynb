{
 "cells": [
  {
   "cell_type": "code",
   "execution_count": 29,
   "metadata": {},
   "outputs": [],
   "source": [
    "import numpy as np\n",
    "import matplotlib.pyplot as plt\n",
    "from itertools import product as product\n",
    "from scipy.linalg import expm\n",
    "%matplotlib notebook"
   ]
  },
  {
   "cell_type": "code",
   "execution_count": 30,
   "metadata": {},
   "outputs": [],
   "source": [
    "N = 100\n",
    "I_0 = 5\n",
    "Rsi = 2/N\n",
    "Rir = 1/N\n",
    "\n",
    "states = {(x, y) : ind for ind, (x, y) in enumerate([(x, y) for x in range(N + 1) for y in range(N + 1) if x + y <= N], 0)}\n",
    "biStates = {ind : state for state, ind in states.items()}"
   ]
  },
  {
   "cell_type": "code",
   "execution_count": 31,
   "metadata": {},
   "outputs": [],
   "source": [
    "Q = np.zeros((len(states), len(states)))\n",
    "\n",
    "for (x, y), ind in states.items():\n",
    "    if y > 0:\n",
    "        transitionTo = states[(x, y - 1)]\n",
    "        Q[ind, transitionTo] = Rir * y\n",
    "    if x > 0:\n",
    "        transitionTo = states[(x - 1, y + 1)]\n",
    "        Q[ind, transitionTo] = Rsi * y * x\n",
    "    Q[ind, ind] = - np.sum(Q[ind, :])"
   ]
  },
  {
   "cell_type": "code",
   "execution_count": 32,
   "metadata": {},
   "outputs": [
    {
     "name": "stdout",
     "output_type": "stream",
     "text": [
      "[[-0.    0.    0.   ...  0.    0.    0.  ]\n",
      " [ 0.01 -0.01  0.   ...  0.    0.    0.  ]\n",
      " [ 0.    0.02 -0.02 ...  0.    0.    0.  ]\n",
      " ...\n",
      " [ 0.    0.    0.   ... -0.    0.    0.  ]\n",
      " [ 0.    0.    0.   ...  0.01 -1.99  0.  ]\n",
      " [ 0.    0.    0.   ...  0.    0.   -0.  ]]\n"
     ]
    }
   ],
   "source": [
    "with np.printoptions(precision=2):\n",
    "    print(Q)"
   ]
  },
  {
   "cell_type": "code",
   "execution_count": 33,
   "metadata": {},
   "outputs": [],
   "source": [
    "Ps = [expm(Q * t) for t in [5, 10, 20, 50]]"
   ]
  },
  {
   "cell_type": "code",
   "execution_count": 34,
   "metadata": {},
   "outputs": [],
   "source": [
    "for P in Ps:\n",
    "    assert np.allclose(np.sum(P, axis=1), np.ones((P.shape[0],)))"
   ]
  },
  {
   "cell_type": "code",
   "execution_count": 35,
   "metadata": {},
   "outputs": [],
   "source": [
    "# estimate expected value of I_t\n",
    "Is = []\n",
    "\n",
    "for P in Ps:\n",
    "    assert np.allclose(np.sum(P, axis=1), np.ones((P.shape[0],)))\n",
    "    start = states[(N - I_0, I_0)]\n",
    "    Is.append(sum(biStates[col][1] * P[start, col] for col in range(P.shape[1])))"
   ]
  },
  {
   "cell_type": "code",
   "execution_count": 36,
   "metadata": {},
   "outputs": [
    {
     "data": {
      "text/plain": [
       "[96.48317550170825, 91.90590030702678, 83.1599086606544, 61.60637556604254]"
      ]
     },
     "execution_count": 36,
     "metadata": {},
     "output_type": "execute_result"
    }
   ],
   "source": [
    "Is"
   ]
  },
  {
   "cell_type": "code",
   "execution_count": null,
   "metadata": {},
   "outputs": [],
   "source": []
  }
 ],
 "metadata": {
  "kernelspec": {
   "display_name": "Python 3",
   "language": "python",
   "name": "python3"
  },
  "language_info": {
   "codemirror_mode": {
    "name": "ipython",
    "version": 3
   },
   "file_extension": ".py",
   "mimetype": "text/x-python",
   "name": "python",
   "nbconvert_exporter": "python",
   "pygments_lexer": "ipython3",
   "version": "3.7.3"
  }
 },
 "nbformat": 4,
 "nbformat_minor": 2
}
