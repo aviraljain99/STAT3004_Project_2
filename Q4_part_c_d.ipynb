{
 "cells": [
  {
   "cell_type": "code",
   "execution_count": 1,
   "metadata": {},
   "outputs": [],
   "source": [
    "import numpy as np\n",
    "import matplotlib.pyplot as plt\n",
    "%matplotlib notebook"
   ]
  },
  {
   "cell_type": "code",
   "execution_count": 2,
   "metadata": {},
   "outputs": [],
   "source": [
    "I_0 = 5\n",
    "N = 10\n",
    "Ris = 0.5\n",
    "Rsi = 2"
   ]
  },
  {
   "cell_type": "code",
   "execution_count": 41,
   "metadata": {},
   "outputs": [],
   "source": [
    "def getQMatrix(Rsi, a=0.5, N=10, Ris=0.5):\n",
    "    # Create Q matrix\n",
    "    Q = np.zeros((N + 1, N + 1))\n",
    "    for i in range(N + 1):\n",
    "        if i != N:\n",
    "            Q[i, i + 1] = Ris * (N - i) # infective becomes a susceptible again\n",
    "        if i != 0:\n",
    "            Q[i, i - 1] = Rsi * i * (N - i) + a # susceptible becomes an infective\n",
    "        Q[i, i] = - np.sum(Q[i, :])\n",
    "    return Q\n",
    "\n",
    "Q = getQMatrix(Rsi, a=0.5, Ris=0.5)"
   ]
  },
  {
   "cell_type": "code",
   "execution_count": 74,
   "metadata": {},
   "outputs": [
    {
     "data": {
      "text/plain": [
       "<matplotlib.collections.PathCollection at 0x22671cd8c18>"
      ]
     },
     "execution_count": 74,
     "metadata": {},
     "output_type": "execute_result"
    },
    {
     "data": {
      "image/png": "[encoded data removed]",
      "text/plain": [
       "<Figure size 432x288 with 1 Axes>"
      ]
     },
     "metadata": {
      "needs_background": "light"
     },
     "output_type": "display_data"
    }
   ],
   "source": [
    "As = np.linspace(0.01, 3, num=30)\n",
    "\n",
    "infection_rate = []\n",
    "\n",
    "for A in As:\n",
    "    Q = getQMatrix(Rsi, a=A, Ris=0.5)\n",
    "    Qt = np.transpose(Q.copy())\n",
    "    Qt[-1, :] = np.ones(Q[-1].shape)\n",
    "    b = np.zeros(Qt.shape[0])\n",
    "    b[-1] = 1\n",
    "    pi = np.linalg.solve(Qt, b)\n",
    "\n",
    "    pi_t = pi\n",
    "    pi = np.transpose(pi[:, np.newaxis])\n",
    "    \n",
    "    assert np.allclose(1, sum(pi[0]))\n",
    "    assert np.allclose(np.matmul(pi, Q), np.zeros(pi.shape))\n",
    "    \n",
    "    infection_rate.append(sum((N - index) * p for index, p in enumerate(pi[0], 0)))\n",
    "\n",
    "plt.figure()\n",
    "plt.scatter(As, infection_rate)"
   ]
  },
  {
   "cell_type": "code",
   "execution_count": null,
   "metadata": {},
   "outputs": [],
   "source": []
  }
 ],
 "metadata": {
  "kernelspec": {
   "display_name": "Python 3",
   "language": "python",
   "name": "python3"
  },
  "language_info": {
   "codemirror_mode": {
    "name": "ipython",
    "version": 3
   },
   "file_extension": ".py",
   "mimetype": "text/x-python",
   "name": "python",
   "nbconvert_exporter": "python",
   "pygments_lexer": "ipython3",
   "version": "3.7.3"
  }
 },
 "nbformat": 4,
 "nbformat_minor": 2
}
