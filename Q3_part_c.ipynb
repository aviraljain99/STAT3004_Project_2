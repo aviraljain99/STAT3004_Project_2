{
 "cells": [
  {
   "cell_type": "code",
   "execution_count": 1,
   "metadata": {},
   "outputs": [],
   "source": [
    "import numpy as np\n",
    "import matplotlib.pyplot as plt\n",
    "import sympy as sp"
   ]
  },
  {
   "cell_type": "code",
   "execution_count": 14,
   "metadata": {},
   "outputs": [],
   "source": [
    "N = 5\n",
    "Rsi = 1\n",
    "I_0 = 1\n",
    "\n",
    "Q = np.zeros((N, N))\n",
    "\n",
    "for i in range(N):\n",
    "    if i != 0:\n",
    "        Q[i, i - 1] = Rsi * i * (N - i)\n",
    "    Q[i, i] = - np.sum(Q[i, :])"
   ]
  },
  {
   "cell_type": "code",
   "execution_count": 15,
   "metadata": {},
   "outputs": [
    {
     "data": {
      "text/plain": [
       "array([[-0.,  0.,  0.,  0.,  0.],\n",
       "       [ 4., -4.,  0.,  0.,  0.],\n",
       "       [ 0.,  6., -6.,  0.,  0.],\n",
       "       [ 0.,  0.,  6., -6.,  0.],\n",
       "       [ 0.,  0.,  0.,  4., -4.]])"
      ]
     },
     "execution_count": 15,
     "metadata": {},
     "output_type": "execute_result"
    }
   ],
   "source": [
    "Q"
   ]
  },
  {
   "cell_type": "code",
   "execution_count": 11,
   "metadata": {},
   "outputs": [
    {
     "name": "stdout",
     "output_type": "stream",
     "text": [
      "[4. 6. 6. 4.]\n",
      "[[ 1.00e+00 -8.94e-01 -8.94e-01  1.00e+00]\n",
      " [ 0.00e+00  4.47e-01  4.47e-01  2.22e-16]\n",
      " [ 0.00e+00  0.00e+00  9.93e-17  7.40e-17]\n",
      " [ 0.00e+00  0.00e+00  0.00e+00  2.47e-17]]\n"
     ]
    }
   ],
   "source": [
    "w, v = np.linalg.eig(Q)\n",
    "\n",
    "print(w)\n",
    "with np.printoptions(precision=2):\n",
    "    print(v)"
   ]
  },
  {
   "cell_type": "code",
   "execution_count": 12,
   "metadata": {},
   "outputs": [],
   "source": [
    "v_inv = np.linalg.inv(v.copy())"
   ]
  },
  {
   "cell_type": "code",
   "execution_count": 13,
   "metadata": {},
   "outputs": [
    {
     "data": {
      "text/plain": [
       "False"
      ]
     },
     "execution_count": 13,
     "metadata": {},
     "output_type": "execute_result"
    }
   ],
   "source": [
    "np.allclose(Q @ v, v @ w)"
   ]
  },
  {
   "cell_type": "code",
   "execution_count": 2,
   "metadata": {},
   "outputs": [],
   "source": [
    "N = 5 # total population\n",
    "Rsi = 1\n",
    "\n",
    "I_0 = 1\n",
    "S_0 = 4\n",
    "\n",
    "d1 = np.asarray([i * (N - i) for i in reversed(range(S_0 + 1))])\n",
    "d2 = np.asarray([0] + [i * (N - i) for i in reversed(range(1, S_0 + 1))])\n",
    "A = - (np.eye(S_0 + 1) * d1[:, np.newaxis]) + (np.eye(S_0 + 1, k=-1) * d2[:, np.newaxis])\n"
   ]
  },
  {
   "cell_type": "code",
   "execution_count": 3,
   "metadata": {},
   "outputs": [
    {
     "data": {
      "text/plain": [
       "array([[-4.,  0.,  0.,  0.,  0.],\n",
       "       [ 4., -6.,  0.,  0.,  0.],\n",
       "       [ 0.,  6., -6.,  0.,  0.],\n",
       "       [ 0.,  0.,  6., -4.,  0.],\n",
       "       [ 0.,  0.,  0.,  4.,  0.]])"
      ]
     },
     "execution_count": 3,
     "metadata": {},
     "output_type": "execute_result"
    }
   ],
   "source": [
    "A"
   ]
  },
  {
   "cell_type": "code",
   "execution_count": 5,
   "metadata": {},
   "outputs": [],
   "source": [
    "w, v = np.linalg.eig(A)\n",
    "v_inv = np.linalg.inv(v.copy())\n",
    "w = np.diag(w.copy())"
   ]
  },
  {
   "cell_type": "code",
   "execution_count": 6,
   "metadata": {},
   "outputs": [
    {
     "data": {
      "text/plain": [
       "array([[ 0.,  0.,  0.,  0.,  0.],\n",
       "       [ 0., -4.,  0.,  0.,  0.],\n",
       "       [ 0.,  0., -6.,  0.,  0.],\n",
       "       [ 0.,  0.,  0., -6.,  0.],\n",
       "       [ 0.,  0.,  0.,  0., -4.]])"
      ]
     },
     "execution_count": 6,
     "metadata": {},
     "output_type": "execute_result"
    }
   ],
   "source": [
    "w"
   ]
  },
  {
   "cell_type": "code",
   "execution_count": 7,
   "metadata": {},
   "outputs": [
    {
     "data": {
      "text/plain": [
       "array([[1., 0., 0., 0., 0.],\n",
       "       [0., 1., 0., 0., 0.],\n",
       "       [0., 0., 1., 0., 0.],\n",
       "       [0., 0., 0., 1., 0.],\n",
       "       [0., 0., 0., 0., 1.]])"
      ]
     },
     "execution_count": 7,
     "metadata": {},
     "output_type": "execute_result"
    }
   ],
   "source": [
    "v @ v_inv"
   ]
  },
  {
   "cell_type": "code",
   "execution_count": 8,
   "metadata": {},
   "outputs": [
    {
     "data": {
      "text/plain": [
       "array([[-7.67176928e+00,  1.32238173e-01,  1.00000000e+00,\n",
       "         1.00000000e+00,  1.00000000e+00],\n",
       "       [ 5.73214651e+16,  5.61039052e-01,  4.24264069e+00,\n",
       "         1.41421356e+00,  0.00000000e+00],\n",
       "       [-3.37018536e+16,  1.68509268e+16,  3.74165739e+00,\n",
       "         0.00000000e+00,  0.00000000e+00],\n",
       "       [-3.37018536e+16,  1.68509268e+16, -0.00000000e+00,\n",
       "        -0.00000000e+00, -0.00000000e+00],\n",
       "       [ 5.73214651e+16,  0.00000000e+00,  0.00000000e+00,\n",
       "         0.00000000e+00,  0.00000000e+00]])"
      ]
     },
     "execution_count": 8,
     "metadata": {},
     "output_type": "execute_result"
    }
   ],
   "source": [
    "v_inv"
   ]
  },
  {
   "cell_type": "code",
   "execution_count": 9,
   "metadata": {},
   "outputs": [
    {
     "data": {
      "text/plain": [
       "True"
      ]
     },
     "execution_count": 9,
     "metadata": {},
     "output_type": "execute_result"
    }
   ],
   "source": [
    "np.allclose(v @ w @ v_inv, (v @ w) @ v_inv) # v * (w * v^(-1)) vs (v * w) * v^(-1)"
   ]
  },
  {
   "cell_type": "code",
   "execution_count": 9,
   "metadata": {},
   "outputs": [
    {
     "name": "stdout",
     "output_type": "stream",
     "text": [
      "[[ 4.    1.41 -1.07 -1.07  1.41]\n",
      " [ 0.    6.    0.    0.    6.  ]\n",
      " [ 0.    0.    6.    2.   -2.35]\n",
      " [ 0.    0.    0.    4.    2.35]\n",
      " [ 0.    0.    0.    0.    0.  ]]\n",
      "[ 2.85e+17 -1.21e+17  1.20e+01  7.71e-16  6.98e-17]\n"
     ]
    }
   ],
   "source": [
    "with np.printoptions(precision=2):\n",
    "    print(v @ w @ v)\n",
    "    \n",
    "with np.printoptions(precision=2):\n",
    "    print((v @ np.diag(w)) @ np.linalg.inv(v))"
   ]
  },
  {
   "cell_type": "code",
   "execution_count": 13,
   "metadata": {},
   "outputs": [
    {
     "data": {
      "text/plain": [
       "True"
      ]
     },
     "execution_count": 13,
     "metadata": {},
     "output_type": "execute_result"
    }
   ],
   "source": [
    "np.allclose(A @ (v @ np.linalg.inv(v)), A) "
   ]
  },
  {
   "cell_type": "code",
   "execution_count": 16,
   "metadata": {},
   "outputs": [
    {
     "name": "stdout",
     "output_type": "stream",
     "text": [
      "[[ 4.00e+00  0.00e+00  0.00e+00  0.00e+00  0.00e+00]\n",
      " [-4.00e+00  6.00e+00  0.00e+00  0.00e+00  0.00e+00]\n",
      " [-1.76e+01  7.93e-01  6.00e+00  0.00e+00  0.00e+00]\n",
      " [ 6.92e+01  1.36e+00 -6.00e+00  4.00e+00  0.00e+00]\n",
      " [-5.20e+00  1.59e+00  3.52e-16 -4.00e+00  0.00e+00]]\n"
     ]
    }
   ],
   "source": [
    "with np.printoptions(precision=2):\n",
    "    print(v @ w @ v_inv) "
   ]
  },
  {
   "cell_type": "code",
   "execution_count": 26,
   "metadata": {},
   "outputs": [
    {
     "data": {
      "text/plain": [
       "array([[ 0.00000000e+00,  0.00000000e+00,  0.00000000e+00,\n",
       "         0.00000000e+00,  1.74454718e-17],\n",
       "       [ 0.00000000e+00,  0.00000000e+00,  0.00000000e+00,\n",
       "         5.93439169e-17,  3.48909435e-17],\n",
       "       [ 0.00000000e+00,  0.00000000e+00,  2.67261242e-01,\n",
       "         2.67261242e-01,  1.04672831e-16],\n",
       "       [ 0.00000000e+00,  7.07106781e-01, -8.01783726e-01,\n",
       "        -8.01783726e-01,  7.07106781e-01],\n",
       "       [ 1.00000000e+00, -7.07106781e-01,  5.34522484e-01,\n",
       "         5.34522484e-01, -7.07106781e-01]])"
      ]
     },
     "execution_count": 26,
     "metadata": {},
     "output_type": "execute_result"
    }
   ],
   "source": [
    "v"
   ]
  },
  {
   "cell_type": "code",
   "execution_count": 54,
   "metadata": {},
   "outputs": [
    {
     "data": {
      "text/plain": [
       "array([[ 4.,  0.,  0.,  0.,  0.],\n",
       "       [-4.,  6.,  0.,  0.,  0.],\n",
       "       [ 0., -6.,  6.,  0.,  0.],\n",
       "       [ 0.,  0., -6.,  4.,  0.],\n",
       "       [ 0.,  0.,  0., -4.,  0.]])"
      ]
     },
     "execution_count": 54,
     "metadata": {},
     "output_type": "execute_result"
    }
   ],
   "source": [
    "A"
   ]
  },
  {
   "cell_type": "code",
   "execution_count": 19,
   "metadata": {},
   "outputs": [
    {
     "name": "stdout",
     "output_type": "stream",
     "text": [
      "(5, 5)\n",
      "(5, 5)\n",
      "(5, 5)\n"
     ]
    }
   ],
   "source": [
    "print(A.shape)\n",
    "print(v.shape)\n",
    "print(np.diag(w).shape)"
   ]
  },
  {
   "cell_type": "code",
   "execution_count": 20,
   "metadata": {},
   "outputs": [
    {
     "data": {
      "text/plain": [
       "array([[0., 0., 0., 0., 0.],\n",
       "       [0., 4., 0., 0., 0.],\n",
       "       [0., 0., 6., 0., 0.],\n",
       "       [0., 0., 0., 6., 0.],\n",
       "       [0., 0., 0., 0., 4.]])"
      ]
     },
     "execution_count": 20,
     "metadata": {},
     "output_type": "execute_result"
    }
   ],
   "source": [
    "np.diag(w)"
   ]
  },
  {
   "cell_type": "code",
   "execution_count": 21,
   "metadata": {},
   "outputs": [
    {
     "data": {
      "text/plain": [
       "array([[ 0.00000000e+00,  0.00000000e+00,  0.00000000e+00,\n",
       "         0.00000000e+00,  1.74454718e-17],\n",
       "       [ 0.00000000e+00,  0.00000000e+00,  0.00000000e+00,\n",
       "         5.93439169e-17,  3.48909435e-17],\n",
       "       [ 0.00000000e+00,  0.00000000e+00,  2.67261242e-01,\n",
       "         2.67261242e-01,  1.04672831e-16],\n",
       "       [ 0.00000000e+00,  7.07106781e-01, -8.01783726e-01,\n",
       "        -8.01783726e-01,  7.07106781e-01],\n",
       "       [ 1.00000000e+00, -7.07106781e-01,  5.34522484e-01,\n",
       "         5.34522484e-01, -7.07106781e-01]])"
      ]
     },
     "execution_count": 21,
     "metadata": {},
     "output_type": "execute_result"
    }
   ],
   "source": [
    "v"
   ]
  }
 ],
 "metadata": {
  "kernelspec": {
   "display_name": "Python 3",
   "language": "python",
   "name": "python3"
  },
  "language_info": {
   "codemirror_mode": {
    "name": "ipython",
    "version": 3
   },
   "file_extension": ".py",
   "mimetype": "text/x-python",
   "name": "python",
   "nbconvert_exporter": "python",
   "pygments_lexer": "ipython3",
   "version": "3.7.3"
  }
 },
 "nbformat": 4,
 "nbformat_minor": 2
}
